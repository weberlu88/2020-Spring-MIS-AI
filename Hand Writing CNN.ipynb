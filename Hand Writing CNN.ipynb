{
 "cells": [
  {
   "cell_type": "code",
   "execution_count": 2,
   "metadata": {},
   "outputs": [
    {
     "name": "stderr",
     "output_type": "stream",
     "text": [
      "Using TensorFlow backend.\n"
     ]
    }
   ],
   "source": [
    "import keras\n",
    "from keras.datasets import mnist"
   ]
  },
  {
   "cell_type": "code",
   "execution_count": 2,
   "metadata": {},
   "outputs": [
    {
     "name": "stdout",
     "output_type": "stream",
     "text": [
      "# packages in environment at C:\\Users\\Weber\\.conda\\envs\\testAI:\n",
      "#\n",
      "# Name                    Version                   Build  Channel\n",
      "_tflow_select             2.2.0                     eigen  \n",
      "absl-py                   0.9.0                    py37_0  \n",
      "asn1crypto                1.3.0                    py37_0  \n",
      "astor                     0.8.0                    py37_0  \n",
      "blas                      1.0                         mkl  \n",
      "blinker                   1.4                      py37_0  \n",
      "ca-certificates           2020.1.1                      0  \n",
      "cachetools                3.1.1                      py_0  \n",
      "certifi                   2020.4.5.1               py37_0  \n",
      "cffi                      1.14.0           py37h7a1dbc1_0  \n",
      "chardet                   3.0.4                 py37_1003  \n",
      "click                     7.1.1                      py_0  \n",
      "cryptography              2.8              py37h7a1dbc1_0  \n",
      "gast                      0.2.2                    py37_0  \n",
      "google-auth               1.13.1                     py_0  \n",
      "google-auth-oauthlib      0.4.1                      py_2  \n",
      "google-pasta              0.2.0                      py_0  \n",
      "grpcio                    1.27.2           py37h351948d_0  \n",
      "h5py                      2.10.0           py37h5e291fa_0  \n",
      "hdf5                      1.10.4               h7ebc959_0  \n",
      "icc_rt                    2019.0.0             h0cc432a_1  \n",
      "idna                      2.9                        py_1  \n",
      "intel-openmp              2020.0                      166  \n",
      "keras                     2.3.1                         0  \n",
      "keras-applications        1.0.8                      py_0  \n",
      "keras-base                2.3.1                    py37_0  \n",
      "keras-preprocessing       1.1.0                      py_1  \n",
      "libprotobuf               3.11.4               h7bd577a_0  \n",
      "markdown                  3.1.1                    py37_0  \n",
      "mkl                       2020.0                      166  \n",
      "mkl-service               2.3.0            py37hb782905_0  \n",
      "mkl_fft                   1.0.15           py37h14836fe_0  \n",
      "mkl_random                1.1.0            py37h675688f_0  \n",
      "numpy                     1.18.1           py37h93ca92e_0  \n",
      "numpy-base                1.18.1           py37hc3f5095_1  \n",
      "oauthlib                  3.1.0                      py_0  \n",
      "openssl                   1.1.1f               he774522_0  \n",
      "opt_einsum                3.1.0                      py_0  \n",
      "pip                       20.0.2                   py37_1  \n",
      "protobuf                  3.11.4           py37h33f27b4_0  \n",
      "pyasn1                    0.4.8                      py_0  \n",
      "pyasn1-modules            0.2.7                      py_0  \n",
      "pycparser                 2.20                       py_0  \n",
      "pyjwt                     1.7.1                    py37_0  \n",
      "pyopenssl                 19.1.0                   py37_0  \n",
      "pyreadline                2.1                      py37_1  \n",
      "pysocks                   1.7.1                    py37_0  \n",
      "python                    3.7.7                h60c2a47_2  \n",
      "pyyaml                    5.3.1            py37he774522_0  \n",
      "requests                  2.23.0                   py37_0  \n",
      "requests-oauthlib         1.3.0                      py_0  \n",
      "rsa                       4.0                        py_0  \n",
      "scipy                     1.4.1            py37h9439919_0  \n",
      "setuptools                46.1.3                   py37_0  \n",
      "six                       1.14.0                   py37_0  \n",
      "sqlite                    3.31.1               he774522_0  \n",
      "tensorboard               2.1.0                     py3_0  \n",
      "tensorflow                2.1.0           eigen_py37hd727fc0_0  \n",
      "tensorflow-base           2.1.0           eigen_py37h49b2757_0  \n",
      "tensorflow-estimator      2.1.0              pyhd54b08b_0  \n",
      "termcolor                 1.1.0                    py37_1  \n",
      "urllib3                   1.25.8                   py37_0  \n",
      "vc                        14.1                 h0510ff6_4  \n",
      "vs2015_runtime            14.16.27012          hf0eaf9b_1  \n",
      "werkzeug                  0.14.1                   py37_0  \n",
      "wheel                     0.34.2                   py37_0  \n",
      "win_inet_pton             1.1.0                    py37_0  \n",
      "wincertstore              0.2                      py37_0  \n",
      "wrapt                     1.12.1           py37he774522_1  \n",
      "yaml                      0.1.7                hc54c509_2  \n",
      "zlib                      1.2.11               h62dcd97_4  \n"
     ]
    }
   ],
   "source": [
    "!conda list"
   ]
  }
 ],
 "metadata": {
  "kernelspec": {
   "display_name": "Python 3",
   "language": "python",
   "name": "python3"
  },
  "language_info": {
   "codemirror_mode": {
    "name": "ipython",
    "version": 3
   },
   "file_extension": ".py",
   "mimetype": "text/x-python",
   "name": "python",
   "nbconvert_exporter": "python",
   "pygments_lexer": "ipython3",
   "version": "3.7.7"
  }
 },
 "nbformat": 4,
 "nbformat_minor": 2
}
