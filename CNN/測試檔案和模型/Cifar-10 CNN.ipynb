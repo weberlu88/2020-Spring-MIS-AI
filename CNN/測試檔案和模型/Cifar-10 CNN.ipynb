{
 "cells": [
  {
   "cell_type": "markdown",
   "metadata": {},
   "source": [
    "# Cifar-10 CNN"
   ]
  },
  {
   "cell_type": "markdown",
   "metadata": {},
   "source": [
    "Train a simple deep CNN on the CIFAR10 small images dataset. [LINK](https://keras.io/examples/cifar10_cnn/)"
   ]
  },
  {
   "cell_type": "code",
   "execution_count": 1,
   "metadata": {},
   "outputs": [
    {
     "name": "stderr",
     "output_type": "stream",
     "text": [
      "Using TensorFlow backend.\n"
     ]
    }
   ],
   "source": [
    "import keras\n",
    "from keras.datasets import cifar10\n",
    "from keras.preprocessing.image import ImageDataGenerator\n",
    "from keras.models import Sequential\n",
    "from keras.layers import Dense, Dropout, Flatten\n",
    "from keras.layers import Conv2D, MaxPooling2D"
   ]
  },
  {
   "cell_type": "code",
   "execution_count": 2,
   "metadata": {},
   "outputs": [],
   "source": [
    "# variables\n",
    "batch_size = 64\n",
    "num_classes = 10\n",
    "epochs = 60\n",
    "\n",
    "# the data, split between train and test sets\n",
    "(x_train, y_train), (x_test, y_test) = cifar10.load_data()"
   ]
  },
  {
   "cell_type": "code",
   "execution_count": 3,
   "metadata": {},
   "outputs": [
    {
     "data": {
      "image/png": "[encoded data removed]",
      "text/plain": [
       "<Figure size 432x288 with 1 Axes>"
      ]
     },
     "metadata": {
      "needs_background": "light"
     },
     "output_type": "display_data"
    }
   ],
   "source": [
    "import matplotlib.pyplot as plt\n",
    "plt.imshow(x_train[0], cmap = plt.cm.binary)\n",
    "plt.show()"
   ]
  },
  {
   "cell_type": "code",
   "execution_count": 4,
   "metadata": {},
   "outputs": [
    {
     "name": "stdout",
     "output_type": "stream",
     "text": [
      "x_train.shape[0] (50000, 32, 32, 3)\n",
      "50000 train samples\n",
      "10000 test samples\n"
     ]
    }
   ],
   "source": [
    "x_train = x_train.reshape(x_train.shape[0], 32, 32, 3).astype('float32')\n",
    "x_test  = x_test.reshape(x_test.shape[0], 32, 32, 3).astype('float32')\n",
    "x_train /= 255\n",
    "x_test /= 255\n",
    "print('x_train.shape[0]', x_train.shape)\n",
    "print(x_train.shape[0], 'train samples')\n",
    "print(x_test.shape[0], 'test samples')\n",
    "\n",
    "# convert class vectors to binary class matrixs\n",
    "y_train = keras.utils.to_categorical(y_train, num_classes)\n",
    "y_test  = keras.utils.to_categorical(y_test, num_classes)"
   ]
  },
  {
   "cell_type": "markdown",
   "metadata": {},
   "source": [
    "## Model Architecture"
   ]
  },
  {
   "cell_type": "markdown",
   "metadata": {},
   "source": [
    "Under 3 epochs\n",
    "* ConvConvPool + ConvConvPool + 128*128 NN + batch_size = 128 --> 183.7s, Test accuracy:  0.541\n",
    "* ConvConvPool + ConvConvPool + 128*128 NN + batch_size =  32 --> 260.6s, Test accuracy:  0.619\n",
    "* ConvConvPool + ConvConvPool + 128 NN + batch_size = 128 --> 191.3s, Test accuracy: 0.543\n",
    "* ConvConvPool + 128*128 NN + batch_size = 128 --> 130.9s, Test accuracy:  0.621\n",
    "\n",
    "Under 15 epochs\n",
    "* ConvConvPool + 128 NN + batch_size = 64 --> 743.6s, Test accuracy:  0.698\n",
    "* ConvConvPool + ConvConvPool + 512 NN + batch_size = 64 --> 1156s, Test accuracy:  0.786"
   ]
  },
  {
   "cell_type": "code",
   "execution_count": 5,
   "metadata": {},
   "outputs": [
    {
     "name": "stderr",
     "output_type": "stream",
     "text": [
      "C:\\Users\\tenny\\anaconda3\\envs\\testAI\\lib\\site-packages\\ipykernel_launcher.py:3: UserWarning: Update your `Conv2D` call to the Keras 2 API: `Conv2D(32, (3, 3), activation=\"relu\", input_shape=(32, 32, 3..., padding=\"same\")`\n",
      "  This is separate from the ipykernel package so we can avoid doing imports until\n",
      "C:\\Users\\tenny\\anaconda3\\envs\\testAI\\lib\\site-packages\\ipykernel_launcher.py:8: UserWarning: Update your `Conv2D` call to the Keras 2 API: `Conv2D(64, (3, 3), activation=\"relu\", input_shape=(32, 32, 3..., padding=\"same\")`\n",
      "  \n"
     ]
    }
   ],
   "source": [
    "# model architecture\n",
    "model = Sequential()\n",
    "model.add(Conv2D(32, (3, 3), border_mode='same', activation='relu', input_shape=(32,32,3)))\n",
    "model.add(Conv2D(32, (3, 3), activation='relu'))\n",
    "model.add(MaxPooling2D(pool_size=(2,2)))\n",
    "model.add(Dropout(0.25))\n",
    "\n",
    "model.add(Conv2D(64, (3, 3), border_mode='same', activation='relu', input_shape=(32,32,3)))\n",
    "model.add(Conv2D(64, (3, 3), activation='relu'))\n",
    "model.add(MaxPooling2D(pool_size=(2,2)))\n",
    "model.add(Dropout(0.25))\n",
    "\n",
    "model.add(Flatten())\n",
    "model.add(Dense(512, activation='relu'))\n",
    "model.add(Dense(256, activation='relu')) # not required?\n",
    "model.add(Dropout(0.5))\n",
    "model.add(Dense(num_classes, activation='softmax'))"
   ]
  },
  {
   "cell_type": "code",
   "execution_count": 6,
   "metadata": {},
   "outputs": [
    {
     "name": "stdout",
     "output_type": "stream",
     "text": [
      "Model: \"sequential_1\"\n",
      "_________________________________________________________________\n",
      "Layer (type)                 Output Shape              Param #   \n",
      "=================================================================\n",
      "conv2d_1 (Conv2D)            (None, 32, 32, 32)        896       \n",
      "_________________________________________________________________\n",
      "conv2d_2 (Conv2D)            (None, 30, 30, 32)        9248      \n",
      "_________________________________________________________________\n",
      "max_pooling2d_1 (MaxPooling2 (None, 15, 15, 32)        0         \n",
      "_________________________________________________________________\n",
      "dropout_1 (Dropout)          (None, 15, 15, 32)        0         \n",
      "_________________________________________________________________\n",
      "conv2d_3 (Conv2D)            (None, 15, 15, 64)        18496     \n",
      "_________________________________________________________________\n",
      "conv2d_4 (Conv2D)            (None, 13, 13, 64)        36928     \n",
      "_________________________________________________________________\n",
      "max_pooling2d_2 (MaxPooling2 (None, 6, 6, 64)          0         \n",
      "_________________________________________________________________\n",
      "dropout_2 (Dropout)          (None, 6, 6, 64)          0         \n",
      "_________________________________________________________________\n",
      "flatten_1 (Flatten)          (None, 2304)              0         \n",
      "_________________________________________________________________\n",
      "dense_1 (Dense)              (None, 512)               1180160   \n",
      "_________________________________________________________________\n",
      "dense_2 (Dense)              (None, 256)               131328    \n",
      "_________________________________________________________________\n",
      "dropout_3 (Dropout)          (None, 256)               0         \n",
      "_________________________________________________________________\n",
      "dense_3 (Dense)              (None, 10)                2570      \n",
      "=================================================================\n",
      "Total params: 1,379,626\n",
      "Trainable params: 1,379,626\n",
      "Non-trainable params: 0\n",
      "_________________________________________________________________\n"
     ]
    }
   ],
   "source": [
    "model.summary()"
   ]
  },
  {
   "cell_type": "markdown",
   "metadata": {},
   "source": [
    "## Training"
   ]
  },
  {
   "cell_type": "code",
   "execution_count": 7,
   "metadata": {},
   "outputs": [],
   "source": [
    "model.compile(loss = keras.losses.categorical_crossentropy,\n",
    "              optimizer = keras.optimizers.Adadelta(),\n",
    "              metrics = ['accuracy'])"
   ]
  },
  {
   "cell_type": "code",
   "execution_count": 8,
   "metadata": {},
   "outputs": [
    {
     "name": "stdout",
     "output_type": "stream",
     "text": [
      "Train on 50000 samples, validate on 10000 samples\n",
      "Epoch 1/60\n",
      "50000/50000 [==============================] - 79s 2ms/step - loss: 1.8202 - accuracy: 0.3384 - val_loss: 1.8317 - val_accuracy: 0.3746\n",
      "Epoch 2/60\n",
      "50000/50000 [==============================] - 80s 2ms/step - loss: 1.3303 - accuracy: 0.5247 - val_loss: 1.2470 - val_accuracy: 0.5528\n",
      "Epoch 3/60\n",
      "50000/50000 [==============================] - 81s 2ms/step - loss: 1.1041 - accuracy: 0.6121 - val_loss: 1.0295 - val_accuracy: 0.6426\n",
      "Epoch 4/60\n",
      "50000/50000 [==============================] - 81s 2ms/step - loss: 0.9499 - accuracy: 0.6708 - val_loss: 0.9473 - val_accuracy: 0.6702\n",
      "Epoch 5/60\n",
      "50000/50000 [==============================] - 80s 2ms/step - loss: 0.8311 - accuracy: 0.7139 - val_loss: 0.8876 - val_accuracy: 0.7065\n",
      "Epoch 6/60\n",
      "50000/50000 [==============================] - 80s 2ms/step - loss: 0.7332 - accuracy: 0.7466 - val_loss: 0.8550 - val_accuracy: 0.7188\n",
      "Epoch 7/60\n",
      "50000/50000 [==============================] - 80s 2ms/step - loss: 0.6598 - accuracy: 0.7715 - val_loss: 0.8062 - val_accuracy: 0.7260\n",
      "Epoch 8/60\n",
      "50000/50000 [==============================] - 80s 2ms/step - loss: 0.5897 - accuracy: 0.7967 - val_loss: 0.7615 - val_accuracy: 0.7415\n",
      "Epoch 9/60\n",
      "50000/50000 [==============================] - 80s 2ms/step - loss: 0.5329 - accuracy: 0.8196 - val_loss: 0.7543 - val_accuracy: 0.7579\n",
      "Epoch 10/60\n",
      "50000/50000 [==============================] - 81s 2ms/step - loss: 0.4822 - accuracy: 0.8342 - val_loss: 0.7394 - val_accuracy: 0.7626\n",
      "Epoch 11/60\n",
      "50000/50000 [==============================] - 80s 2ms/step - loss: 0.4392 - accuracy: 0.8506 - val_loss: 0.7232 - val_accuracy: 0.7771\n",
      "Epoch 12/60\n",
      "50000/50000 [==============================] - 80s 2ms/step - loss: 0.4089 - accuracy: 0.8604 - val_loss: 0.8294 - val_accuracy: 0.7607\n",
      "Epoch 13/60\n",
      "50000/50000 [==============================] - 80s 2ms/step - loss: 0.3734 - accuracy: 0.8728 - val_loss: 0.7583 - val_accuracy: 0.7700\n",
      "Epoch 14/60\n",
      "50000/50000 [==============================] - 80s 2ms/step - loss: 0.3403 - accuracy: 0.8848 - val_loss: 0.8641 - val_accuracy: 0.7674\n",
      "Epoch 15/60\n",
      "50000/50000 [==============================] - 80s 2ms/step - loss: 0.3200 - accuracy: 0.8913 - val_loss: 0.7857 - val_accuracy: 0.7682\n",
      "Epoch 16/60\n",
      "50000/50000 [==============================] - 80s 2ms/step - loss: 0.3000 - accuracy: 0.8983 - val_loss: 0.9010 - val_accuracy: 0.7643\n",
      "Epoch 17/60\n",
      "50000/50000 [==============================] - 80s 2ms/step - loss: 0.2781 - accuracy: 0.9073 - val_loss: 0.8806 - val_accuracy: 0.7772\n",
      "Epoch 18/60\n",
      "50000/50000 [==============================] - 81s 2ms/step - loss: 0.2614 - accuracy: 0.9118 - val_loss: 0.9741 - val_accuracy: 0.7544\n",
      "Epoch 19/60\n",
      "50000/50000 [==============================] - 81s 2ms/step - loss: 0.2567 - accuracy: 0.9144 - val_loss: 0.9104 - val_accuracy: 0.7837\n",
      "Epoch 20/60\n",
      "50000/50000 [==============================] - 80s 2ms/step - loss: 0.2382 - accuracy: 0.9208 - val_loss: 0.8579 - val_accuracy: 0.7671\n",
      "Epoch 21/60\n",
      "50000/50000 [==============================] - 80s 2ms/step - loss: 0.2332 - accuracy: 0.9237 - val_loss: 0.9850 - val_accuracy: 0.7472\n",
      "Epoch 22/60\n",
      "50000/50000 [==============================] - 80s 2ms/step - loss: 0.2253 - accuracy: 0.9260 - val_loss: 1.1077 - val_accuracy: 0.7743\n",
      "Epoch 23/60\n",
      "50000/50000 [==============================] - 80s 2ms/step - loss: 0.2203 - accuracy: 0.9299 - val_loss: 1.6200 - val_accuracy: 0.7013\n",
      "Epoch 24/60\n",
      "50000/50000 [==============================] - 81s 2ms/step - loss: 0.2136 - accuracy: 0.9324 - val_loss: 1.0453 - val_accuracy: 0.7728\n",
      "Epoch 25/60\n",
      "50000/50000 [==============================] - 81s 2ms/step - loss: 0.2136 - accuracy: 0.9323 - val_loss: 1.0986 - val_accuracy: 0.7768\n",
      "Epoch 26/60\n",
      "50000/50000 [==============================] - 80s 2ms/step - loss: 0.2095 - accuracy: 0.9339 - val_loss: 1.2425 - val_accuracy: 0.7470\n",
      "Epoch 27/60\n",
      "50000/50000 [==============================] - 81s 2ms/step - loss: 0.2008 - accuracy: 0.9370 - val_loss: 1.1453 - val_accuracy: 0.7777\n",
      "Epoch 28/60\n",
      "50000/50000 [==============================] - 80s 2ms/step - loss: 0.2071 - accuracy: 0.9356 - val_loss: 1.2309 - val_accuracy: 0.7776\n",
      "Epoch 29/60\n",
      "50000/50000 [==============================] - 80s 2ms/step - loss: 0.2031 - accuracy: 0.9374 - val_loss: 1.0769 - val_accuracy: 0.7847\n",
      "Epoch 30/60\n",
      "50000/50000 [==============================] - 80s 2ms/step - loss: 0.2037 - accuracy: 0.9373 - val_loss: 0.9795 - val_accuracy: 0.7783\n",
      "Epoch 31/60\n",
      "50000/50000 [==============================] - 81s 2ms/step - loss: 0.1979 - accuracy: 0.9395 - val_loss: 1.3645 - val_accuracy: 0.7849\n",
      "Epoch 32/60\n",
      "50000/50000 [==============================] - 81s 2ms/step - loss: 0.2046 - accuracy: 0.9388 - val_loss: 1.2880 - val_accuracy: 0.7752\n",
      "Epoch 33/60\n",
      "50000/50000 [==============================] - 81s 2ms/step - loss: 0.1994 - accuracy: 0.9398 - val_loss: 1.1104 - val_accuracy: 0.7767\n",
      "Epoch 34/60\n",
      "50000/50000 [==============================] - 80s 2ms/step - loss: 0.1979 - accuracy: 0.9399 - val_loss: 1.1873 - val_accuracy: 0.7695\n",
      "Epoch 35/60\n",
      "50000/50000 [==============================] - 79s 2ms/step - loss: 0.1978 - accuracy: 0.9414 - val_loss: 1.3668 - val_accuracy: 0.7659\n",
      "Epoch 36/60\n",
      "50000/50000 [==============================] - 80s 2ms/step - loss: 0.1841 - accuracy: 0.9452 - val_loss: 1.2683 - val_accuracy: 0.7812\n",
      "Epoch 37/60\n",
      "50000/50000 [==============================] - 81s 2ms/step - loss: 0.1904 - accuracy: 0.9436 - val_loss: 1.3138 - val_accuracy: 0.7674\n",
      "Epoch 38/60\n",
      "50000/50000 [==============================] - 80s 2ms/step - loss: 0.1904 - accuracy: 0.9442 - val_loss: 1.6884 - val_accuracy: 0.7866\n",
      "Epoch 39/60\n",
      "50000/50000 [==============================] - 80s 2ms/step - loss: 0.1942 - accuracy: 0.9432 - val_loss: 1.3393 - val_accuracy: 0.7830\n",
      "Epoch 40/60\n",
      "50000/50000 [==============================] - 81s 2ms/step - loss: 0.1851 - accuracy: 0.9455 - val_loss: 1.4594 - val_accuracy: 0.7920\n",
      "Epoch 41/60\n",
      "50000/50000 [==============================] - 80s 2ms/step - loss: 0.1880 - accuracy: 0.9450 - val_loss: 1.2424 - val_accuracy: 0.7786\n",
      "Epoch 42/60\n",
      "50000/50000 [==============================] - 81s 2ms/step - loss: 0.1868 - accuracy: 0.9465 - val_loss: 1.1016 - val_accuracy: 0.7751\n",
      "Epoch 43/60\n",
      "50000/50000 [==============================] - 80s 2ms/step - loss: 0.1776 - accuracy: 0.9492 - val_loss: 1.3070 - val_accuracy: 0.7838\n",
      "Epoch 44/60\n",
      "50000/50000 [==============================] - 81s 2ms/step - loss: 0.1832 - accuracy: 0.9471 - val_loss: 1.2699 - val_accuracy: 0.7900\n",
      "Epoch 45/60\n",
      "50000/50000 [==============================] - 81s 2ms/step - loss: 0.1811 - accuracy: 0.9481 - val_loss: 1.0745 - val_accuracy: 0.7635\n",
      "Epoch 46/60\n",
      "50000/50000 [==============================] - 80s 2ms/step - loss: 0.1811 - accuracy: 0.9477 - val_loss: 1.3957 - val_accuracy: 0.7865\n",
      "Epoch 47/60\n",
      "50000/50000 [==============================] - 81s 2ms/step - loss: 0.1788 - accuracy: 0.9498 - val_loss: 1.5104 - val_accuracy: 0.7715\n",
      "Epoch 48/60\n",
      "50000/50000 [==============================] - 81s 2ms/step - loss: 0.1761 - accuracy: 0.9488 - val_loss: 1.1458 - val_accuracy: 0.7817\n",
      "Epoch 49/60\n",
      "50000/50000 [==============================] - 81s 2ms/step - loss: 0.1739 - accuracy: 0.9520 - val_loss: 1.7091 - val_accuracy: 0.7880\n",
      "Epoch 50/60\n",
      "50000/50000 [==============================] - 81s 2ms/step - loss: 0.1725 - accuracy: 0.9510 - val_loss: 1.3658 - val_accuracy: 0.7814\n",
      "Epoch 51/60\n",
      "50000/50000 [==============================] - 81s 2ms/step - loss: 0.1705 - accuracy: 0.9518 - val_loss: 1.6765 - val_accuracy: 0.7913\n",
      "Epoch 52/60\n",
      "50000/50000 [==============================] - 80s 2ms/step - loss: 0.1744 - accuracy: 0.9504 - val_loss: 1.4662 - val_accuracy: 0.7846\n",
      "Epoch 53/60\n",
      "50000/50000 [==============================] - 80s 2ms/step - loss: 0.1686 - accuracy: 0.9527 - val_loss: 1.2373 - val_accuracy: 0.7776\n",
      "Epoch 54/60\n",
      "50000/50000 [==============================] - 79s 2ms/step - loss: 0.1711 - accuracy: 0.9522 - val_loss: 1.2205 - val_accuracy: 0.7741\n",
      "Epoch 55/60\n",
      "50000/50000 [==============================] - 79s 2ms/step - loss: 0.1762 - accuracy: 0.9514 - val_loss: 1.2312 - val_accuracy: 0.7787\n",
      "Epoch 56/60\n"
     ]
    },
    {
     "name": "stdout",
     "output_type": "stream",
     "text": [
      "50000/50000 [==============================] - 79s 2ms/step - loss: 0.1661 - accuracy: 0.9523 - val_loss: 1.4458 - val_accuracy: 0.7868\n",
      "Epoch 57/60\n",
      "50000/50000 [==============================] - 79s 2ms/step - loss: 0.1661 - accuracy: 0.9535 - val_loss: 1.4594 - val_accuracy: 0.7866\n",
      "Epoch 58/60\n",
      "50000/50000 [==============================] - 79s 2ms/step - loss: 0.1708 - accuracy: 0.9526 - val_loss: 1.3962 - val_accuracy: 0.7803\n",
      "Epoch 59/60\n",
      "50000/50000 [==============================] - 79s 2ms/step - loss: 0.1611 - accuracy: 0.9542 - val_loss: 1.2066 - val_accuracy: 0.7849\n",
      "Epoch 60/60\n",
      "50000/50000 [==============================] - 79s 2ms/step - loss: 0.1607 - accuracy: 0.9560 - val_loss: 1.4424 - val_accuracy: 0.7841\n",
      "Process time: 4820.499958515167\n"
     ]
    }
   ],
   "source": [
    "import time\n",
    "\n",
    "start = time.time()\n",
    "\n",
    "model.fit(x_train, y_train, \n",
    "          batch_size=batch_size,\n",
    "          epochs=epochs, \n",
    "          verbose=1, \n",
    "          validation_data=(x_test, y_test))\n",
    "\n",
    "end = time.time()\n",
    "print('Process time:', end - start)"
   ]
  },
  {
   "cell_type": "code",
   "execution_count": 9,
   "metadata": {},
   "outputs": [
    {
     "name": "stdout",
     "output_type": "stream",
     "text": [
      "Test loss:  1.4424301327228546\n",
      "Test accuracy:  0.7840999960899353\n"
     ]
    }
   ],
   "source": [
    "score = model.evaluate(x_test, y_test, verbose=0)\n",
    "print('Test loss: ', score[0])\n",
    "print('Test accuracy: ', score[1])"
   ]
  },
  {
   "cell_type": "code",
   "execution_count": 10,
   "metadata": {},
   "outputs": [],
   "source": [
    "model.save('cifar10-60epochs.model')"
   ]
  }
 ],
 "metadata": {
  "kernelspec": {
   "display_name": "Python 3",
   "language": "python",
   "name": "python3"
  },
  "language_info": {
   "codemirror_mode": {
    "name": "ipython",
    "version": 3
   },
   "file_extension": ".py",
   "mimetype": "text/x-python",
   "name": "python",
   "nbconvert_exporter": "python",
   "pygments_lexer": "ipython3",
   "version": "3.6.10"
  }
 },
 "nbformat": 4,
 "nbformat_minor": 4
}
