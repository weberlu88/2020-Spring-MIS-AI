{
  "nbformat": 4,
  "nbformat_minor": 0,
  "metadata": {
    "colab": {
      "name": "QLearning 2D迷宮 調分數.ipynb",
      "provenance": [],
      "collapsed_sections": []
    },
    "kernelspec": {
      "name": "python3",
      "display_name": "Python 3"
    }
  },
  "cells": [
    {
      "cell_type": "code",
      "metadata": {
        "id": "2wA7PNlYMN_U",
        "colab_type": "code",
        "colab": {}
      },
      "source": [
        "import numpy as np\n",
        "import pandas as pd\n",
        "import time\n",
        "import os\n",
        "from IPython.display import clear_output\n",
        "clear = lambda: os.system('cls') # windows\n",
        "clear = lambda: os.system('clear') #linux"
      ],
      "execution_count": 0,
      "outputs": []
    },
    {
      "cell_type": "markdown",
      "metadata": {
        "id": "RdLtv_y8NW5t",
        "colab_type": "text"
      },
      "source": [
        "### global variable"
      ]
    },
    {
      "cell_type": "code",
      "metadata": {
        "id": "FfSr-quxNN1B",
        "colab_type": "code",
        "colab": {}
      },
      "source": [
        "ROW, COL = 30, 40\n",
        "N_STATES = ROW*COL   #有多少種states\n",
        "ACTIONS = ['left', 'right', 'up', 'down']     #可以做的動作\n",
        "EPSILON = 0.95   # epsilon greedy\n",
        "ALPHA = 0.1     # learning rate\n",
        "GAMMA = 0.9    # discount factor\n",
        "MAX_EPISODES = 300   # maximum episodes\n",
        "FRESH_TIME = 0.15    # fresh time for one move\n",
        "MIN_STEP = 1e8\n",
        "MIS_STEP_EPISODE = 1e8\n",
        "# np.random.seed(1000)"
      ],
      "execution_count": 0,
      "outputs": []
    },
    {
      "cell_type": "markdown",
      "metadata": {
        "id": "duMktTpzNSjQ",
        "colab_type": "text"
      },
      "source": [
        "### 建立Q table"
      ]
    },
    {
      "cell_type": "markdown",
      "metadata": {
        "id": "qHwiBzZtrKg_",
        "colab_type": "text"
      },
      "source": [
        "\n",
        "3x3 的 Q table:\n",
        "```\n",
        "0 1 2\n",
        "3 4 5\n",
        "6 7 8\n",
        "```\n",
        "```\n",
        "o - -\n",
        "- - -\n",
        "- - T\n",
        "```\n",
        "3x4 的 Q table:\n",
        "```\n",
        "0 1 2 3\n",
        "4 5 6 7\n",
        "8 9 10 11\n",
        "```\n"
      ]
    },
    {
      "cell_type": "code",
      "metadata": {
        "id": "xOWOGlvDNQaa",
        "colab_type": "code",
        "colab": {}
      },
      "source": [
        "def build_q_table(n_states, actions): \n",
        "    table = pd.DataFrame(np.zeros((n_states, len(actions))),columns=actions,)   \n",
        "    return table"
      ],
      "execution_count": 0,
      "outputs": []
    },
    {
      "cell_type": "code",
      "metadata": {
        "id": "ZXPGSiIhqLip",
        "colab_type": "code",
        "outputId": "fc050b6d-76f7-4f41-fc92-c3133536458a",
        "colab": {
          "base_uri": "https://localhost:8080/",
          "height": 404
        }
      },
      "source": [
        "q_table1 = build_q_table(N_STATES, ACTIONS)\n",
        "q_table1"
      ],
      "execution_count": 0,
      "outputs": [
        {
          "output_type": "execute_result",
          "data": {
            "text/html": [
              "<div>\n",
              "<style scoped>\n",
              "    .dataframe tbody tr th:only-of-type {\n",
              "        vertical-align: middle;\n",
              "    }\n",
              "\n",
              "    .dataframe tbody tr th {\n",
              "        vertical-align: top;\n",
              "    }\n",
              "\n",
              "    .dataframe thead th {\n",
              "        text-align: right;\n",
              "    }\n",
              "</style>\n",
              "<table border=\"1\" class=\"dataframe\">\n",
              "  <thead>\n",
              "    <tr style=\"text-align: right;\">\n",
              "      <th></th>\n",
              "      <th>left</th>\n",
              "      <th>right</th>\n",
              "      <th>up</th>\n",
              "      <th>down</th>\n",
              "    </tr>\n",
              "  </thead>\n",
              "  <tbody>\n",
              "    <tr>\n",
              "      <th>0</th>\n",
              "      <td>0.0</td>\n",
              "      <td>0.0</td>\n",
              "      <td>0.0</td>\n",
              "      <td>0.0</td>\n",
              "    </tr>\n",
              "    <tr>\n",
              "      <th>1</th>\n",
              "      <td>0.0</td>\n",
              "      <td>0.0</td>\n",
              "      <td>0.0</td>\n",
              "      <td>0.0</td>\n",
              "    </tr>\n",
              "    <tr>\n",
              "      <th>2</th>\n",
              "      <td>0.0</td>\n",
              "      <td>0.0</td>\n",
              "      <td>0.0</td>\n",
              "      <td>0.0</td>\n",
              "    </tr>\n",
              "    <tr>\n",
              "      <th>3</th>\n",
              "      <td>0.0</td>\n",
              "      <td>0.0</td>\n",
              "      <td>0.0</td>\n",
              "      <td>0.0</td>\n",
              "    </tr>\n",
              "    <tr>\n",
              "      <th>4</th>\n",
              "      <td>0.0</td>\n",
              "      <td>0.0</td>\n",
              "      <td>0.0</td>\n",
              "      <td>0.0</td>\n",
              "    </tr>\n",
              "    <tr>\n",
              "      <th>...</th>\n",
              "      <td>...</td>\n",
              "      <td>...</td>\n",
              "      <td>...</td>\n",
              "      <td>...</td>\n",
              "    </tr>\n",
              "    <tr>\n",
              "      <th>1195</th>\n",
              "      <td>0.0</td>\n",
              "      <td>0.0</td>\n",
              "      <td>0.0</td>\n",
              "      <td>0.0</td>\n",
              "    </tr>\n",
              "    <tr>\n",
              "      <th>1196</th>\n",
              "      <td>0.0</td>\n",
              "      <td>0.0</td>\n",
              "      <td>0.0</td>\n",
              "      <td>0.0</td>\n",
              "    </tr>\n",
              "    <tr>\n",
              "      <th>1197</th>\n",
              "      <td>0.0</td>\n",
              "      <td>0.0</td>\n",
              "      <td>0.0</td>\n",
              "      <td>0.0</td>\n",
              "    </tr>\n",
              "    <tr>\n",
              "      <th>1198</th>\n",
              "      <td>0.0</td>\n",
              "      <td>0.0</td>\n",
              "      <td>0.0</td>\n",
              "      <td>0.0</td>\n",
              "    </tr>\n",
              "    <tr>\n",
              "      <th>1199</th>\n",
              "      <td>0.0</td>\n",
              "      <td>0.0</td>\n",
              "      <td>0.0</td>\n",
              "      <td>0.0</td>\n",
              "    </tr>\n",
              "  </tbody>\n",
              "</table>\n",
              "<p>1200 rows × 4 columns</p>\n",
              "</div>"
            ],
            "text/plain": [
              "      left  right   up  down\n",
              "0      0.0    0.0  0.0   0.0\n",
              "1      0.0    0.0  0.0   0.0\n",
              "2      0.0    0.0  0.0   0.0\n",
              "3      0.0    0.0  0.0   0.0\n",
              "4      0.0    0.0  0.0   0.0\n",
              "...    ...    ...  ...   ...\n",
              "1195   0.0    0.0  0.0   0.0\n",
              "1196   0.0    0.0  0.0   0.0\n",
              "1197   0.0    0.0  0.0   0.0\n",
              "1198   0.0    0.0  0.0   0.0\n",
              "1199   0.0    0.0  0.0   0.0\n",
              "\n",
              "[1200 rows x 4 columns]"
            ]
          },
          "metadata": {
            "tags": []
          },
          "execution_count": 5
        }
      ]
    },
    {
      "cell_type": "markdown",
      "metadata": {
        "id": "9PRZBSQ2Nd__",
        "colab_type": "text"
      },
      "source": [
        "### choose action的功能"
      ]
    },
    {
      "cell_type": "code",
      "metadata": {
        "id": "T1JyoylANcTt",
        "colab_type": "code",
        "colab": {}
      },
      "source": [
        "def choose_action(state, q_table): \n",
        "    state_actions = q_table.iloc[state, :] #取state這一行的對應資料 (Series)\n",
        "    #act non-greedy or state-action have no value\n",
        "    if (np.random.uniform() > EPSILON) or ((state_actions == 0).all()):  \n",
        "        action_name = np.random.choice(ACTIONS) \n",
        "    else:   # act greedy\n",
        "        action_name = state_actions.idxmax()\n",
        "    return action_name"
      ],
      "execution_count": 0,
      "outputs": []
    },
    {
      "cell_type": "code",
      "metadata": {
        "id": "fXDIhc7pqqi8",
        "colab_type": "code",
        "outputId": "db7b9023-0df7-4644-bb7d-cb41aa937502",
        "colab": {
          "base_uri": "https://localhost:8080/",
          "height": 34
        }
      },
      "source": [
        "choose_action(0, q_table)"
      ],
      "execution_count": 0,
      "outputs": [
        {
          "output_type": "execute_result",
          "data": {
            "text/plain": [
              "'right'"
            ]
          },
          "metadata": {
            "tags": []
          },
          "execution_count": 69
        }
      ]
    },
    {
      "cell_type": "code",
      "metadata": {
        "id": "VeIt3hw1cfGN",
        "colab_type": "code",
        "outputId": "05c62ecf-d5a6-4726-8572-eea6e9f65eee",
        "colab": {
          "base_uri": "https://localhost:8080/",
          "height": 105
        }
      },
      "source": [
        "q_table.iloc[1198, :]"
      ],
      "execution_count": 0,
      "outputs": [
        {
          "output_type": "execute_result",
          "data": {
            "text/plain": [
              "left     0.000000\n",
              "right    0.468559\n",
              "up       0.080842\n",
              "down    -0.063144\n",
              "Name: 1198, dtype: float64"
            ]
          },
          "metadata": {
            "tags": []
          },
          "execution_count": 76
        }
      ]
    },
    {
      "cell_type": "markdown",
      "metadata": {
        "id": "y50bBLRbNiRw",
        "colab_type": "text"
      },
      "source": [
        "### 建立環境對我們行為的feedback\n",
        "撞牆 reward 給負的"
      ]
    },
    {
      "cell_type": "code",
      "metadata": {
        "id": "P1ELvoPTI4fV",
        "colab_type": "code",
        "colab": {}
      },
      "source": [
        "def distance(S, S_):\n",
        "    '''distance = 所需步數 = 水平距離+垂直距離'''\n",
        "    x, y = S%COL, int(S/COL)\n",
        "    x_, y_ = S_%COL, int(S_/COL)\n",
        "    distance = abs(x-x_) + abs(y-y_)\n",
        "    # print('x:', x, 'y:',y)\n",
        "    # print('x_:', x_, 'y_:',y_)\n",
        "    # print('distance:', distance)\n",
        "\n",
        "    return distance"
      ],
      "execution_count": 0,
      "outputs": []
    },
    {
      "cell_type": "code",
      "metadata": {
        "id": "BIBkcO--QNP9",
        "colab_type": "code",
        "colab": {}
      },
      "source": [
        "def reward(S, S_):\n",
        "    '''reward = 1/接近寶藏的距離'''\n",
        "    d  = distance(S, N_STATES-1)\n",
        "    d_ = distance(S_, N_STATES-1)\n",
        "    dirrerence = d - d_\n",
        "    reward = 1/dirrerence\n",
        "    return reward"
      ],
      "execution_count": 0,
      "outputs": []
    },
    {
      "cell_type": "code",
      "metadata": {
        "id": "3P0R6rRVLirv",
        "colab_type": "code",
        "colab": {
          "base_uri": "https://localhost:8080/",
          "height": 34
        },
        "outputId": "21b0a26a-fe33-4ef6-d5d6-31dafd4be554"
      },
      "source": [
        "distance(0, 1199)"
      ],
      "execution_count": 42,
      "outputs": [
        {
          "output_type": "execute_result",
          "data": {
            "text/plain": [
              "68"
            ]
          },
          "metadata": {
            "tags": []
          },
          "execution_count": 42
        }
      ]
    },
    {
      "cell_type": "code",
      "metadata": {
        "id": "wZ8FXjKaRHuq",
        "colab_type": "code",
        "colab": {
          "base_uri": "https://localhost:8080/",
          "height": 34
        },
        "outputId": "e7967174-8b5a-48a0-b8ff-b324513a2749"
      },
      "source": [
        "reward(2, 0)"
      ],
      "execution_count": 48,
      "outputs": [
        {
          "output_type": "execute_result",
          "data": {
            "text/plain": [
              "-0.5"
            ]
          },
          "metadata": {
            "tags": []
          },
          "execution_count": 48
        }
      ]
    },
    {
      "cell_type": "code",
      "metadata": {
        "id": "HlWma7ypNgv3",
        "colab_type": "code",
        "colab": {}
      },
      "source": [
        "def get_env_feedback(S, A): \n",
        "    R = 0\n",
        "\n",
        "    if A == 'right':    # move right\n",
        "        if S == N_STATES - 2:   # 寶藏前一個位置\n",
        "            S_ = 'terminal'  \n",
        "            R = 1e5 # 找到才給reward\n",
        "        elif (S+1)%COL == 0:\n",
        "            # print('reach right wall')\n",
        "            S_ = S  # reach right wall\n",
        "            R = -1e5\n",
        "        else: \n",
        "            S_ = S + 1 \n",
        "            R = reward(S, S_)\n",
        "\n",
        "    if A == 'left':   # move left\n",
        "        if (S)%COL == 0:\n",
        "            # print('reach left wall')\n",
        "            S_ = S  # reach left wall\n",
        "            R = -1e5\n",
        "        else:\n",
        "            S_ = S - 1\n",
        "            R = reward(S, S_)\n",
        "\n",
        "    if A == 'up':\n",
        "        if S < COL:\n",
        "            # print('reach top wall')\n",
        "            S_ = S  # reach top wall\n",
        "            R = -1e5\n",
        "        else:\n",
        "            S_ = S - COL\n",
        "            R = reward(S, S_)\n",
        "\n",
        "    if A == 'down':\n",
        "        if (S+COL) == N_STATES - 1:\n",
        "            S_ = 'terminal'  # FIND !!!\n",
        "            R = 1e5 \n",
        "        elif S >= (ROW-1)*COL:\n",
        "            # print('reach down wall')\n",
        "            S_ = S  # reach down wall\n",
        "            R = -1e5\n",
        "        else:\n",
        "            S_ = S + COL\n",
        "            R = reward(S, S_)\n",
        "      \n",
        "    return S_, R"
      ],
      "execution_count": 0,
      "outputs": []
    },
    {
      "cell_type": "code",
      "metadata": {
        "id": "CLPTAt6AAaJf",
        "colab_type": "code",
        "outputId": "6f213552-30cb-4a0b-a6a7-762f3222263b",
        "colab": {
          "base_uri": "https://localhost:8080/",
          "height": 34
        }
      },
      "source": [
        "S, A = 11990, 'down'\n",
        "S_, R = get_env_feedback(S, A)\n",
        "print(\"S next:\", S_, \"Reowrd:\", R)"
      ],
      "execution_count": 0,
      "outputs": [
        {
          "output_type": "stream",
          "text": [
            "S next: 11990 Reowrd: -1\n"
          ],
          "name": "stdout"
        }
      ]
    },
    {
      "cell_type": "markdown",
      "metadata": {
        "id": "kHsZ-WAXNjqE",
        "colab_type": "text"
      },
      "source": [
        "### 更新環境"
      ]
    },
    {
      "cell_type": "code",
      "metadata": {
        "id": "hQ9WVxnANnh9",
        "colab_type": "code",
        "colab": {}
      },
      "source": [
        "def update_env(S, episode, step_counter):\n",
        "    # '---------T' draw our 2D environment \n",
        "    # env_list = []\n",
        "    # i = 0\n",
        "    # for c in range(ROW):\n",
        "    #     for r in range(COL):\n",
        "    #         if i == S:\n",
        "    #             env_list += 'o'\n",
        "    #         else:\n",
        "    #             env_list += '-'\n",
        "    #         i += 1\n",
        "    #     env_list += '\\n'\n",
        "    # env_list = env_list[:-2]\n",
        "    # env_list += 'T\\n'\n",
        "    \n",
        "    if S == 'terminal': \n",
        "        interaction = 'Episode %s: total_steps = %s' % (episode+1, step_counter) #回應\n",
        "        # clear_output(wait=True)\n",
        "        print('\\r', end='')\n",
        "        print('{}'.format(interaction)) \n",
        "        # time.sleep(1)                             \n",
        "        # print('\\r                                ', end='') #清空\n",
        "        # 紀錄最小總步數\n",
        "        global MIN_STEP\n",
        "        if step_counter < MIN_STEP:\n",
        "            MIN_STEP = step_counter\n",
        "            MIS_STEP_EPISODE = episode+1\n",
        "    else:\n",
        "        if step_counter!=0 and step_counter%1000 == 0:\n",
        "        # interaction = ''.join(env_list) \n",
        "            # clear_output(wait=True)\n",
        "            print('\\r', end='')\n",
        "            print('\\r', end='')\n",
        "            print(f'Episode *{episode+1}: current_step = {step_counter}', end='')\n",
        "        # print('{}'.format(interaction), end='')\n",
        "        # time.sleep(FRESH_TIME)"
      ],
      "execution_count": 0,
      "outputs": []
    },
    {
      "cell_type": "code",
      "metadata": {
        "id": "U8Z0Ghb6GHj5",
        "colab_type": "code",
        "outputId": "c6f0ac87-bc51-47c8-8455-5d29fe596fed",
        "colab": {
          "base_uri": "https://localhost:8080/",
          "height": 33
        }
      },
      "source": [
        "update_env(S=4, episode=1, step_counter=500)\n",
        "update_env(S=4, episode=2, step_counter=1000)\n",
        "update_env(S='terminal', episode=3, step_counter=1500)"
      ],
      "execution_count": 0,
      "outputs": [
        {
          "output_type": "stream",
          "text": [
            "\r\rEpisode *3: current_step = 1000\rEpisode 4: total_steps = 1500\n"
          ],
          "name": "stdout"
        }
      ]
    },
    {
      "cell_type": "markdown",
      "metadata": {
        "id": "IrifWbxeNp-Y",
        "colab_type": "text"
      },
      "source": [
        "### 建立reinforcement learning"
      ]
    },
    {
      "cell_type": "code",
      "metadata": {
        "id": "7Qpq4a0bNtVL",
        "colab_type": "code",
        "colab": {}
      },
      "source": [
        "def rl():\n",
        "    q_table = build_q_table(N_STATES, ACTIONS) #建立 Q table\n",
        "    for episode in range(MAX_EPISODES): #從第一個回合玩到最後一個回合\n",
        "        step_counter = 0\n",
        "        S = 0 #初始情況，探索者放到左邊\n",
        "        is_terminated = False \n",
        "        update_env(S, episode, step_counter) #更新環境\n",
        "        while not is_terminated: #回合沒有結束\n",
        "\n",
        "            A = choose_action(S, q_table) \n",
        "            S_, R = get_env_feedback(S, A)  \n",
        "            q_predict = q_table.loc[S, A] #估計值 Single label for row and column > loc[index, col]\n",
        "            if S_ != 'terminal': #回合還沒結束\n",
        "                q_target = R + GAMMA * q_table.iloc[S_, :].max()   #真實值 \n",
        "            else:\n",
        "                q_target = R    \n",
        "                is_terminated = True    # 結束這一回合\n",
        "                \n",
        "            q_table.loc[S, A] += ALPHA * (q_target - q_predict)  # update\n",
        "            S = S_  # move to next state\n",
        "\n",
        "            update_env(S, episode, step_counter+1)\n",
        "            step_counter += 1\n",
        "    return q_table, step_counter"
      ],
      "execution_count": 0,
      "outputs": []
    },
    {
      "cell_type": "markdown",
      "metadata": {
        "id": "4G9H_LlYNsid",
        "colab_type": "text"
      },
      "source": [
        "### Execute Program"
      ]
    },
    {
      "cell_type": "code",
      "metadata": {
        "id": "nRzSSy6YNxMP",
        "colab_type": "code",
        "outputId": "e18e3b16-c45e-4400-9d38-f25632afb00a",
        "colab": {
          "base_uri": "https://localhost:8080/",
          "height": 1000
        }
      },
      "source": [
        "if __name__ == \"__main__\":\n",
        "    q_table, step = rl()\n",
        "    # clear_output(wait=True)\n",
        "    print()\n",
        "    print('minina step:', MIN_STEP, '@ episode',MIS_STEP_EPISODE)\n",
        "    print('\\nQ-table:\\n')\n",
        "    print(q_table)"
      ],
      "execution_count": 75,
      "outputs": [
        {
          "output_type": "stream",
          "text": [
            "\rEpisode 1: total_steps = 168\n",
            "\rEpisode 2: total_steps = 144\n",
            "\rEpisode 3: total_steps = 77\n",
            "\rEpisode 4: total_steps = 74\n",
            "\rEpisode 5: total_steps = 77\n",
            "\rEpisode 6: total_steps = 70\n",
            "Episode 7: total_steps = 82\n",
            "Episode 8: total_steps = 76\n",
            "Episode 9: total_steps = 84\n",
            "Episode 10: total_steps = 104\n",
            "Episode 11: total_steps = 71\n",
            "Episode 12: total_steps = 73\n",
            "Episode 13: total_steps = 80\n",
            "Episode 14: total_steps = 70\n",
            "Episode 15: total_steps = 78\n",
            "Episode 16: total_steps = 70\n",
            "Episode 17: total_steps = 82\n",
            "Episode 18: total_steps = 68\n",
            "Episode 19: total_steps = 70\n",
            "Episode 20: total_steps = 82\n",
            "Episode 21: total_steps = 68\n",
            "Episode 22: total_steps = 72\n",
            "Episode 23: total_steps = 74\n",
            "Episode 24: total_steps = 70\n",
            "Episode 25: total_steps = 68\n",
            "Episode 26: total_steps = 68\n",
            "Episode 27: total_steps = 74\n",
            "Episode 28: total_steps = 88\n",
            "Episode 29: total_steps = 68\n",
            "Episode 30: total_steps = 72\n",
            "Episode 31: total_steps = 74\n",
            "Episode 32: total_steps = 72\n",
            "Episode 33: total_steps = 72\n",
            "Episode 34: total_steps = 70\n",
            "Episode 35: total_steps = 77\n",
            "Episode 36: total_steps = 70\n",
            "Episode 37: total_steps = 81\n",
            "Episode 38: total_steps = 84\n",
            "Episode 39: total_steps = 72\n",
            "Episode 40: total_steps = 78\n",
            "Episode 41: total_steps = 72\n",
            "Episode 42: total_steps = 91\n",
            "Episode 43: total_steps = 72\n",
            "Episode 44: total_steps = 74\n",
            "Episode 45: total_steps = 80\n",
            "Episode 46: total_steps = 70\n",
            "Episode 47: total_steps = 76\n",
            "Episode 48: total_steps = 138\n",
            "Episode 49: total_steps = 70\n",
            "Episode 50: total_steps = 72\n",
            "Episode 51: total_steps = 68\n",
            "Episode 52: total_steps = 70\n",
            "Episode 53: total_steps = 68\n",
            "Episode 54: total_steps = 74\n",
            "Episode 55: total_steps = 68\n",
            "Episode 56: total_steps = 70\n",
            "Episode 57: total_steps = 78\n",
            "Episode 58: total_steps = 78\n",
            "Episode 59: total_steps = 72\n",
            "Episode 60: total_steps = 72\n",
            "Episode 61: total_steps = 70\n",
            "Episode 62: total_steps = 68\n",
            "Episode 63: total_steps = 70\n",
            "Episode 64: total_steps = 70\n",
            "Episode 65: total_steps = 74\n",
            "Episode 66: total_steps = 70\n",
            "Episode 67: total_steps = 74\n",
            "Episode 68: total_steps = 74\n",
            "Episode 69: total_steps = 76\n",
            "Episode 70: total_steps = 68\n",
            "Episode 71: total_steps = 76\n",
            "Episode 72: total_steps = 70\n",
            "Episode 73: total_steps = 72\n",
            "Episode 74: total_steps = 74\n",
            "Episode 75: total_steps = 76\n",
            "Episode 76: total_steps = 68\n",
            "Episode 77: total_steps = 70\n",
            "Episode 78: total_steps = 74\n",
            "Episode 79: total_steps = 84\n",
            "Episode 80: total_steps = 73\n",
            "Episode 81: total_steps = 74\n",
            "Episode 82: total_steps = 73\n",
            "Episode 83: total_steps = 70\n",
            "Episode 84: total_steps = 73\n",
            "Episode 85: total_steps = 70\n",
            "Episode 86: total_steps = 71\n",
            "Episode 87: total_steps = 73\n",
            "Episode 88: total_steps = 76\n",
            "Episode 89: total_steps = 73\n",
            "Episode 90: total_steps = 70\n",
            "Episode 91: total_steps = 72\n",
            "Episode 92: total_steps = 72\n",
            "Episode 93: total_steps = 76\n",
            "Episode 94: total_steps = 76\n",
            "Episode 95: total_steps = 174\n",
            "Episode 96: total_steps = 74\n",
            "Episode 97: total_steps = 68\n",
            "Episode 98: total_steps = 72\n",
            "Episode 99: total_steps = 72\n",
            "Episode 100: total_steps = 75\n",
            "Episode 101: total_steps = 68\n",
            "Episode 102: total_steps = 78\n",
            "Episode 103: total_steps = 72\n",
            "Episode 104: total_steps = 70\n",
            "Episode 105: total_steps = 76\n",
            "Episode 106: total_steps = 68\n",
            "Episode 107: total_steps = 70\n",
            "Episode 108: total_steps = 74\n",
            "Episode 109: total_steps = 74\n",
            "Episode 110: total_steps = 68\n",
            "Episode 111: total_steps = 70\n",
            "Episode 112: total_steps = 72\n",
            "Episode 113: total_steps = 113\n",
            "Episode 114: total_steps = 74\n",
            "Episode 115: total_steps = 79\n",
            "Episode 116: total_steps = 72\n",
            "Episode 117: total_steps = 70\n",
            "Episode 118: total_steps = 68\n",
            "Episode 119: total_steps = 81\n",
            "Episode 120: total_steps = 70\n",
            "Episode 121: total_steps = 68\n",
            "Episode 122: total_steps = 76\n",
            "Episode 123: total_steps = 76\n",
            "Episode 124: total_steps = 72\n",
            "Episode 125: total_steps = 68\n",
            "Episode 126: total_steps = 74\n",
            "Episode 127: total_steps = 68\n",
            "Episode 128: total_steps = 76\n",
            "Episode 129: total_steps = 78\n",
            "Episode 130: total_steps = 74\n",
            "Episode 131: total_steps = 68\n",
            "Episode 132: total_steps = 72\n",
            "Episode 133: total_steps = 73\n",
            "Episode 134: total_steps = 69\n",
            "Episode 135: total_steps = 79\n",
            "Episode 136: total_steps = 76\n",
            "Episode 137: total_steps = 70\n",
            "Episode 138: total_steps = 82\n",
            "Episode 139: total_steps = 70\n",
            "Episode 140: total_steps = 74\n",
            "Episode 141: total_steps = 75\n",
            "Episode 142: total_steps = 68\n",
            "Episode 143: total_steps = 75\n",
            "Episode 144: total_steps = 73\n",
            "Episode 145: total_steps = 74\n",
            "Episode 146: total_steps = 73\n",
            "Episode 147: total_steps = 70\n",
            "Episode 148: total_steps = 74\n",
            "Episode 149: total_steps = 70\n",
            "Episode 150: total_steps = 76\n",
            "Episode 151: total_steps = 78\n",
            "Episode 152: total_steps = 76\n",
            "Episode 153: total_steps = 70\n",
            "Episode 154: total_steps = 76\n",
            "Episode 155: total_steps = 70\n",
            "Episode 156: total_steps = 68\n",
            "Episode 157: total_steps = 70\n",
            "Episode 158: total_steps = 72\n",
            "Episode 159: total_steps = 72\n",
            "Episode 160: total_steps = 68\n",
            "Episode 161: total_steps = 76\n",
            "Episode 162: total_steps = 70\n",
            "Episode 163: total_steps = 74\n",
            "Episode 164: total_steps = 73\n",
            "Episode 165: total_steps = 78\n",
            "Episode 166: total_steps = 72\n",
            "Episode 167: total_steps = 72\n",
            "Episode 168: total_steps = 74\n",
            "Episode 169: total_steps = 71\n",
            "Episode 170: total_steps = 72\n",
            "Episode 171: total_steps = 82\n",
            "Episode 172: total_steps = 71\n",
            "Episode 173: total_steps = 72\n",
            "Episode 174: total_steps = 76\n",
            "Episode 175: total_steps = 69\n",
            "Episode 176: total_steps = 70\n",
            "Episode 177: total_steps = 72\n",
            "Episode 178: total_steps = 76\n",
            "Episode 179: total_steps = 68\n",
            "Episode 180: total_steps = 78\n",
            "Episode 181: total_steps = 74\n",
            "Episode 182: total_steps = 70\n",
            "Episode 183: total_steps = 80\n",
            "Episode 184: total_steps = 71\n",
            "Episode 185: total_steps = 72\n",
            "Episode 186: total_steps = 72\n",
            "Episode 187: total_steps = 76\n",
            "Episode 188: total_steps = 72\n",
            "Episode 189: total_steps = 68\n",
            "Episode 190: total_steps = 70\n",
            "Episode 191: total_steps = 70\n",
            "Episode 192: total_steps = 70\n",
            "Episode 193: total_steps = 80\n",
            "Episode 194: total_steps = 70\n",
            "Episode 195: total_steps = 84\n",
            "Episode 196: total_steps = 70\n",
            "Episode 197: total_steps = 68\n",
            "Episode 198: total_steps = 77\n",
            "Episode 199: total_steps = 70\n",
            "Episode 200: total_steps = 74\n",
            "Episode 201: total_steps = 74\n",
            "Episode 202: total_steps = 72\n",
            "Episode 203: total_steps = 70\n",
            "Episode 204: total_steps = 68\n",
            "Episode 205: total_steps = 72\n",
            "Episode 206: total_steps = 74\n",
            "Episode 207: total_steps = 74\n",
            "Episode 208: total_steps = 72\n",
            "Episode 209: total_steps = 74\n",
            "Episode 210: total_steps = 72\n",
            "Episode 211: total_steps = 72\n",
            "Episode 212: total_steps = 68\n",
            "Episode 213: total_steps = 70\n",
            "Episode 214: total_steps = 76\n",
            "Episode 215: total_steps = 75\n",
            "Episode 216: total_steps = 72\n",
            "Episode 217: total_steps = 70\n",
            "Episode 218: total_steps = 70\n",
            "Episode 219: total_steps = 72\n",
            "Episode 220: total_steps = 70\n",
            "Episode 221: total_steps = 92\n",
            "Episode 222: total_steps = 70\n",
            "Episode 223: total_steps = 70\n",
            "Episode 224: total_steps = 78\n",
            "Episode 225: total_steps = 70\n",
            "Episode 226: total_steps = 73\n",
            "Episode 227: total_steps = 72\n",
            "Episode 228: total_steps = 70\n",
            "Episode 229: total_steps = 72\n",
            "Episode 230: total_steps = 74\n",
            "Episode 231: total_steps = 70\n",
            "Episode 232: total_steps = 96\n",
            "Episode 233: total_steps = 70\n",
            "Episode 234: total_steps = 74\n",
            "Episode 235: total_steps = 70\n",
            "Episode 236: total_steps = 78\n",
            "Episode 237: total_steps = 70\n",
            "Episode 238: total_steps = 70\n",
            "Episode 239: total_steps = 76\n",
            "Episode 240: total_steps = 70\n",
            "Episode 241: total_steps = 72\n",
            "Episode 242: total_steps = 76\n",
            "Episode 243: total_steps = 74\n",
            "Episode 244: total_steps = 74\n",
            "Episode 245: total_steps = 68\n",
            "Episode 246: total_steps = 78\n",
            "Episode 247: total_steps = 72\n",
            "Episode 248: total_steps = 74\n",
            "Episode 249: total_steps = 74\n",
            "Episode 250: total_steps = 74\n",
            "Episode 251: total_steps = 74\n",
            "Episode 252: total_steps = 72\n",
            "Episode 253: total_steps = 74\n",
            "Episode 254: total_steps = 74\n",
            "Episode 255: total_steps = 68\n",
            "Episode 256: total_steps = 70\n",
            "Episode 257: total_steps = 76\n",
            "Episode 258: total_steps = 94\n",
            "Episode 259: total_steps = 69\n",
            "Episode 260: total_steps = 74\n",
            "Episode 261: total_steps = 70\n",
            "Episode 262: total_steps = 78\n",
            "Episode 263: total_steps = 70\n",
            "Episode 264: total_steps = 76\n",
            "Episode 265: total_steps = 68\n",
            "Episode 266: total_steps = 80\n",
            "Episode 267: total_steps = 71\n",
            "Episode 268: total_steps = 72\n",
            "Episode 269: total_steps = 74\n",
            "Episode 270: total_steps = 68\n",
            "Episode 271: total_steps = 68\n",
            "Episode 272: total_steps = 74\n",
            "Episode 273: total_steps = 74\n",
            "Episode 274: total_steps = 74\n",
            "Episode 275: total_steps = 86\n",
            "Episode 276: total_steps = 68\n",
            "Episode 277: total_steps = 68\n",
            "Episode 278: total_steps = 72\n",
            "Episode 279: total_steps = 78\n",
            "Episode 280: total_steps = 96\n",
            "Episode 281: total_steps = 75\n",
            "Episode 282: total_steps = 72\n",
            "Episode 283: total_steps = 68\n",
            "Episode 284: total_steps = 70\n",
            "Episode 285: total_steps = 81\n",
            "Episode 286: total_steps = 69\n",
            "Episode 287: total_steps = 70\n",
            "Episode 288: total_steps = 72\n",
            "Episode 289: total_steps = 70\n",
            "Episode 290: total_steps = 72\n",
            "Episode 291: total_steps = 72\n",
            "Episode 292: total_steps = 76\n",
            "Episode 293: total_steps = 74\n",
            "Episode 294: total_steps = 72\n",
            "Episode 295: total_steps = 73\n",
            "Episode 296: total_steps = 72\n",
            "Episode 297: total_steps = 70\n",
            "Episode 298: total_steps = 76\n",
            "Episode 299: total_steps = 78\n",
            "Episode 300: total_steps = 69\n",
            "Episode 301: total_steps = 70\n",
            "Episode 302: total_steps = 70\n",
            "Episode 303: total_steps = 76\n",
            "Episode 304: total_steps = 74\n",
            "Episode 305: total_steps = 68\n",
            "Episode 306: total_steps = 74\n",
            "Episode 307: total_steps = 76\n",
            "Episode 308: total_steps = 76\n",
            "Episode 309: total_steps = 69\n",
            "Episode 310: total_steps = 78\n",
            "Episode 311: total_steps = 68\n",
            "Episode 312: total_steps = 74\n",
            "Episode 313: total_steps = 70\n",
            "Episode 314: total_steps = 74\n",
            "Episode 315: total_steps = 72\n",
            "Episode 316: total_steps = 68\n",
            "Episode 317: total_steps = 82\n",
            "Episode 318: total_steps = 68\n",
            "Episode 319: total_steps = 84\n",
            "Episode 320: total_steps = 70\n",
            "Episode 321: total_steps = 78\n",
            "Episode 322: total_steps = 70\n",
            "Episode 323: total_steps = 80\n",
            "Episode 324: total_steps = 70\n",
            "Episode 325: total_steps = 78\n",
            "Episode 326: total_steps = 68\n",
            "Episode 327: total_steps = 74\n",
            "Episode 328: total_steps = 71\n",
            "Episode 329: total_steps = 70\n",
            "Episode 330: total_steps = 68\n",
            "Episode 331: total_steps = 70\n",
            "Episode 332: total_steps = 68\n",
            "Episode 333: total_steps = 68\n",
            "Episode 334: total_steps = 74\n",
            "Episode 335: total_steps = 70\n",
            "Episode 336: total_steps = 72\n",
            "Episode 337: total_steps = 76\n",
            "Episode 338: total_steps = 72\n",
            "Episode 339: total_steps = 72\n",
            "Episode 340: total_steps = 74\n",
            "Episode 341: total_steps = 72\n",
            "Episode 342: total_steps = 68\n",
            "Episode 343: total_steps = 68\n",
            "Episode 344: total_steps = 75\n",
            "Episode 345: total_steps = 70\n",
            "Episode 346: total_steps = 70\n",
            "Episode 347: total_steps = 76\n",
            "Episode 348: total_steps = 75\n",
            "Episode 349: total_steps = 78\n",
            "Episode 350: total_steps = 70\n",
            "Episode 351: total_steps = 72\n",
            "Episode 352: total_steps = 70\n",
            "Episode 353: total_steps = 76\n",
            "Episode 354: total_steps = 78\n",
            "Episode 355: total_steps = 74\n",
            "Episode 356: total_steps = 70\n",
            "Episode 357: total_steps = 72\n",
            "Episode 358: total_steps = 76\n",
            "Episode 359: total_steps = 76\n",
            "Episode 360: total_steps = 78\n",
            "Episode 361: total_steps = 70\n",
            "Episode 362: total_steps = 72\n",
            "Episode 363: total_steps = 74\n",
            "Episode 364: total_steps = 68\n",
            "Episode 365: total_steps = 70\n",
            "Episode 366: total_steps = 78\n",
            "Episode 367: total_steps = 75\n",
            "Episode 368: total_steps = 72\n",
            "Episode 369: total_steps = 82\n",
            "Episode 370: total_steps = 74\n",
            "Episode 371: total_steps = 71\n",
            "Episode 372: total_steps = 72\n",
            "Episode 373: total_steps = 72\n",
            "Episode 374: total_steps = 69\n",
            "Episode 375: total_steps = 70\n",
            "Episode 376: total_steps = 74\n",
            "Episode 377: total_steps = 72\n",
            "Episode 378: total_steps = 74\n",
            "Episode 379: total_steps = 68\n",
            "Episode 380: total_steps = 74\n",
            "Episode 381: total_steps = 74\n",
            "Episode 382: total_steps = 68\n",
            "Episode 383: total_steps = 82\n",
            "Episode 384: total_steps = 70\n",
            "Episode 385: total_steps = 74\n",
            "Episode 386: total_steps = 68\n",
            "Episode 387: total_steps = 70\n",
            "Episode 388: total_steps = 76\n",
            "Episode 389: total_steps = 68\n",
            "Episode 390: total_steps = 76\n",
            "Episode 391: total_steps = 68\n",
            "Episode 392: total_steps = 70\n",
            "Episode 393: total_steps = 71\n",
            "Episode 394: total_steps = 72\n",
            "Episode 395: total_steps = 72\n",
            "Episode 396: total_steps = 76\n",
            "Episode 397: total_steps = 74\n",
            "Episode 398: total_steps = 76\n",
            "Episode 399: total_steps = 73\n",
            "Episode 400: total_steps = 70\n",
            "Episode 401: total_steps = 76\n",
            "Episode 402: total_steps = 72\n",
            "Episode 403: total_steps = 74\n",
            "Episode 404: total_steps = 74\n",
            "Episode 405: total_steps = 69\n",
            "Episode 406: total_steps = 70\n",
            "Episode 407: total_steps = 84\n",
            "Episode 408: total_steps = 70\n",
            "Episode 409: total_steps = 72\n",
            "Episode 410: total_steps = 72\n",
            "Episode 411: total_steps = 72\n",
            "Episode 412: total_steps = 76\n",
            "Episode 413: total_steps = 70\n",
            "Episode 414: total_steps = 69\n",
            "Episode 415: total_steps = 72\n",
            "Episode 416: total_steps = 71\n",
            "Episode 417: total_steps = 80\n",
            "Episode 418: total_steps = 74\n",
            "Episode 419: total_steps = 68\n",
            "Episode 420: total_steps = 70\n",
            "Episode 421: total_steps = 70\n",
            "Episode 422: total_steps = 69\n",
            "Episode 423: total_steps = 74\n",
            "Episode 424: total_steps = 72\n",
            "Episode 425: total_steps = 72\n",
            "Episode 426: total_steps = 70\n",
            "Episode 427: total_steps = 70\n",
            "Episode 428: total_steps = 95\n",
            "Episode 429: total_steps = 70\n",
            "Episode 430: total_steps = 68\n",
            "Episode 431: total_steps = 70\n",
            "Episode 432: total_steps = 72\n",
            "Episode 433: total_steps = 75\n",
            "Episode 434: total_steps = 68\n",
            "Episode 435: total_steps = 68\n",
            "Episode 436: total_steps = 72\n",
            "Episode 437: total_steps = 74\n",
            "Episode 438: total_steps = 71\n",
            "Episode 439: total_steps = 76\n",
            "Episode 440: total_steps = 72\n",
            "Episode 441: total_steps = 72\n",
            "Episode 442: total_steps = 70\n",
            "Episode 443: total_steps = 72\n",
            "Episode 444: total_steps = 72\n",
            "Episode 445: total_steps = 74\n",
            "Episode 446: total_steps = 75\n",
            "Episode 447: total_steps = 70\n",
            "Episode 448: total_steps = 76\n",
            "Episode 449: total_steps = 70\n",
            "Episode 450: total_steps = 78\n",
            "Episode 451: total_steps = 77\n",
            "Episode 452: total_steps = 74\n",
            "Episode 453: total_steps = 74\n",
            "Episode 454: total_steps = 70\n",
            "Episode 455: total_steps = 70\n",
            "Episode 456: total_steps = 74\n",
            "Episode 457: total_steps = 80\n",
            "Episode 458: total_steps = 70\n",
            "Episode 459: total_steps = 75\n",
            "Episode 460: total_steps = 69\n",
            "Episode 461: total_steps = 75\n",
            "Episode 462: total_steps = 72\n",
            "Episode 463: total_steps = 72\n",
            "Episode 464: total_steps = 78\n",
            "Episode 465: total_steps = 72\n",
            "Episode 466: total_steps = 72\n",
            "Episode 467: total_steps = 70\n",
            "Episode 468: total_steps = 76\n",
            "Episode 469: total_steps = 72\n",
            "Episode 470: total_steps = 74\n",
            "Episode 471: total_steps = 80\n",
            "Episode 472: total_steps = 72\n",
            "Episode 473: total_steps = 73\n",
            "Episode 474: total_steps = 70\n",
            "Episode 475: total_steps = 72\n",
            "Episode 476: total_steps = 70\n",
            "Episode 477: total_steps = 68\n",
            "Episode 478: total_steps = 68\n",
            "Episode 479: total_steps = 70\n",
            "Episode 480: total_steps = 68\n",
            "Episode 481: total_steps = 75\n",
            "Episode 482: total_steps = 74\n",
            "Episode 483: total_steps = 68\n",
            "Episode 484: total_steps = 77\n",
            "Episode 485: total_steps = 74\n",
            "Episode 486: total_steps = 74\n",
            "Episode 487: total_steps = 78\n",
            "Episode 488: total_steps = 74\n",
            "Episode 489: total_steps = 76\n",
            "Episode 490: total_steps = 70\n",
            "Episode 491: total_steps = 74\n",
            "Episode 492: total_steps = 76\n",
            "Episode 493: total_steps = 74\n",
            "Episode 494: total_steps = 84\n",
            "Episode 495: total_steps = 70\n",
            "Episode 496: total_steps = 72\n",
            "Episode 497: total_steps = 78\n",
            "Episode 498: total_steps = 72\n",
            "Episode 499: total_steps = 74\n",
            "Episode 500: total_steps = 82\n",
            "\n",
            "minina step: 68 @ episode 100000000.0\n",
            "\n",
            "Q-table:\n",
            "\n",
            "              left         right            up      down\n",
            "0    -52166.729023      1.171275 -52166.857497  9.980661\n",
            "1         5.361637      0.000000 -10000.000000  0.000000\n",
            "2         0.000000      0.000000      0.000000  0.190000\n",
            "3        -0.100000      0.000000      0.000000  0.000000\n",
            "4        -0.100000      0.000000 -10000.000000  0.000000\n",
            "...            ...           ...           ...       ...\n",
            "1195     -0.100000     31.944876     -0.100000  0.000000\n",
            "1196     -0.100000    964.737912     -0.091000  0.000000\n",
            "1197     -0.091000  13845.026403      0.000000  0.000000\n",
            "1198    962.607640  52170.310000      0.000000  0.000000\n",
            "1199      0.000000      0.000000      0.000000  0.000000\n",
            "\n",
            "[1200 rows x 4 columns]\n"
          ],
          "name": "stdout"
        }
      ]
    },
    {
      "cell_type": "code",
      "metadata": {
        "id": "vRMjIrCn5_ah",
        "colab_type": "code",
        "colab": {}
      },
      "source": [
        "q_table.to_csv('q_table_撞牆扣reward.csv')"
      ],
      "execution_count": 0,
      "outputs": []
    }
  ]
}