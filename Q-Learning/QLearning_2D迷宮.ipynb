{
  "nbformat": 4,
  "nbformat_minor": 0,
  "metadata": {
    "colab": {
      "name": "QLearning 2D迷宮.ipynb",
      "provenance": [],
      "collapsed_sections": []
    },
    "kernelspec": {
      "name": "python3",
      "display_name": "Python 3"
    }
  },
  "cells": [
    {
      "cell_type": "code",
      "metadata": {
        "id": "2wA7PNlYMN_U",
        "colab_type": "code",
        "colab": {}
      },
      "source": [
        "import numpy as np\n",
        "import pandas as pd\n",
        "import time\n",
        "import os\n",
        "from IPython.display import clear_output\n",
        "clear = lambda: os.system('cls') # windows\n",
        "clear = lambda: os.system('clear') #linux"
      ],
      "execution_count": 0,
      "outputs": []
    },
    {
      "cell_type": "code",
      "metadata": {
        "id": "FRisPlKwLLdC",
        "colab_type": "code",
        "colab": {
          "base_uri": "https://localhost:8080/",
          "height": 33
        },
        "outputId": "7e3f34e4-5d44-4ee4-ba1d-46de92be57d4"
      },
      "source": [
        "for i in range(10):\n",
        "    clear_output(wait=True)\n",
        "    print(\"Hello World!\")"
      ],
      "execution_count": 129,
      "outputs": [
        {
          "output_type": "stream",
          "text": [
            "Hello World!\n"
          ],
          "name": "stdout"
        }
      ]
    },
    {
      "cell_type": "markdown",
      "metadata": {
        "id": "RdLtv_y8NW5t",
        "colab_type": "text"
      },
      "source": [
        "### global variable"
      ]
    },
    {
      "cell_type": "code",
      "metadata": {
        "id": "FfSr-quxNN1B",
        "colab_type": "code",
        "colab": {}
      },
      "source": [
        "ROW, COL = 30, 40\n",
        "N_STATES = ROW*COL   #有多少種states\n",
        "ACTIONS = ['left', 'right', 'up', 'down']     #可以做的動作\n",
        "EPSILON = 0.7   # epsilon greedy\n",
        "ALPHA = 0.1     # learning rate\n",
        "GAMMA = 0.9    # discount factor\n",
        "MAX_EPISODES = 100   # maximum episodes\n",
        "FRESH_TIME = 0.15    # fresh time for one move"
      ],
      "execution_count": 0,
      "outputs": []
    },
    {
      "cell_type": "markdown",
      "metadata": {
        "id": "duMktTpzNSjQ",
        "colab_type": "text"
      },
      "source": [
        "### 建立Q table"
      ]
    },
    {
      "cell_type": "markdown",
      "metadata": {
        "id": "qHwiBzZtrKg_",
        "colab_type": "text"
      },
      "source": [
        "\n",
        "3x3 的 Q table:\n",
        "```\n",
        "0 1 2\n",
        "3 4 5\n",
        "6 7 8\n",
        "```\n",
        "```\n",
        "o - -\n",
        "- - -\n",
        "- - T\n",
        "```\n",
        "3x4 的 Q table:\n",
        "```\n",
        "0 1 2 3\n",
        "4 5 6 7\n",
        "8 9 10 11\n",
        "```\n"
      ]
    },
    {
      "cell_type": "code",
      "metadata": {
        "id": "xOWOGlvDNQaa",
        "colab_type": "code",
        "colab": {}
      },
      "source": [
        "def build_q_table(n_states, actions): \n",
        "    table = pd.DataFrame(np.zeros((n_states, len(actions))),columns=actions,)   \n",
        "    return table"
      ],
      "execution_count": 0,
      "outputs": []
    },
    {
      "cell_type": "code",
      "metadata": {
        "id": "ZXPGSiIhqLip",
        "colab_type": "code",
        "colab": {}
      },
      "source": [
        "q_table1 = build_q_table(N_STATES, ACTIONS)\n",
        "q_table1"
      ],
      "execution_count": 0,
      "outputs": []
    },
    {
      "cell_type": "markdown",
      "metadata": {
        "id": "9PRZBSQ2Nd__",
        "colab_type": "text"
      },
      "source": [
        "### choose action的功能"
      ]
    },
    {
      "cell_type": "code",
      "metadata": {
        "id": "T1JyoylANcTt",
        "colab_type": "code",
        "colab": {}
      },
      "source": [
        "def choose_action(state, q_table): \n",
        "    state_actions = q_table.iloc[state, :] #取state這一行的對應資料 (Series)\n",
        "    #act non-greedy or state-action have no value\n",
        "    if (np.random.uniform() > EPSILON) or ((state_actions == 0).all()):  \n",
        "        action_name = np.random.choice(ACTIONS) \n",
        "    else:   # act greedy\n",
        "        action_name = state_actions.idxmax()\n",
        "    return action_name"
      ],
      "execution_count": 0,
      "outputs": []
    },
    {
      "cell_type": "code",
      "metadata": {
        "id": "fXDIhc7pqqi8",
        "colab_type": "code",
        "colab": {
          "base_uri": "https://localhost:8080/",
          "height": 33
        },
        "outputId": "b11a94be-6cca-4374-b509-e6208a69e0f0"
      },
      "source": [
        "choose_action(0, q_table)"
      ],
      "execution_count": 19,
      "outputs": [
        {
          "output_type": "execute_result",
          "data": {
            "text/plain": [
              "'right'"
            ]
          },
          "metadata": {
            "tags": []
          },
          "execution_count": 19
        }
      ]
    },
    {
      "cell_type": "markdown",
      "metadata": {
        "id": "y50bBLRbNiRw",
        "colab_type": "text"
      },
      "source": [
        "### 建立環境對我們行為的feedback"
      ]
    },
    {
      "cell_type": "code",
      "metadata": {
        "id": "HlWma7ypNgv3",
        "colab_type": "code",
        "colab": {}
      },
      "source": [
        "def get_env_feedback(S, A): \n",
        "    R = 0\n",
        "\n",
        "    if A == 'right':    # move right\n",
        "        if S == N_STATES - 2:   # 寶藏前一個位置\n",
        "            S_ = 'terminal'  \n",
        "            R = 1 # 找到才給reward\n",
        "        elif (S+1)%COL == 0:\n",
        "            # print('reach right wall')\n",
        "            S_ = S  # reach right wall\n",
        "        else: \n",
        "            S_ = S + 1 \n",
        "\n",
        "    if A == 'left':   # move left\n",
        "        if (S)%COL == 0:\n",
        "            # print('reach left wall')\n",
        "            S_ = S  # reach left wall\n",
        "        else:\n",
        "            S_ = S - 1\n",
        "\n",
        "    if A == 'up':\n",
        "        if S < COL:\n",
        "            # print('reach top wall')\n",
        "            S_ = S  # reach top wall\n",
        "        else:\n",
        "            S_ = S - COL\n",
        "\n",
        "    if A == 'down':\n",
        "        if (S+COL) == N_STATES - 1:\n",
        "            S_ = 'terminal'  # FIND !!!\n",
        "            R = 1 \n",
        "        elif S >= (ROW-1)*COL:\n",
        "            # print('reach down wall')\n",
        "            S_ = S  # reach down wall\n",
        "        else:\n",
        "            S_ = S + COL\n",
        "      \n",
        "    return S_, R"
      ],
      "execution_count": 0,
      "outputs": []
    },
    {
      "cell_type": "code",
      "metadata": {
        "id": "CLPTAt6AAaJf",
        "colab_type": "code",
        "colab": {
          "base_uri": "https://localhost:8080/",
          "height": 33
        },
        "outputId": "c4a02968-d1be-4800-9492-1bfe28fffe48"
      },
      "source": [
        "S, A = 0, 'down'\n",
        "S_, R = get_env_feedback(S, A)\n",
        "print(\"S next:\", S_, \"Reowrd:\", R)"
      ],
      "execution_count": 74,
      "outputs": [
        {
          "output_type": "stream",
          "text": [
            "S next: 3 Reowrd: 0\n"
          ],
          "name": "stdout"
        }
      ]
    },
    {
      "cell_type": "markdown",
      "metadata": {
        "id": "kHsZ-WAXNjqE",
        "colab_type": "text"
      },
      "source": [
        "### 更新環境"
      ]
    },
    {
      "cell_type": "code",
      "metadata": {
        "id": "hQ9WVxnANnh9",
        "colab_type": "code",
        "colab": {}
      },
      "source": [
        "def update_env(S, episode, step_counter):\n",
        "    # '---------T' draw our 2D environment \n",
        "    # env_list = []\n",
        "    # i = 0\n",
        "    # for c in range(ROW):\n",
        "    #     for r in range(COL):\n",
        "    #         if i == S:\n",
        "    #             env_list += 'o'\n",
        "    #         else:\n",
        "    #             env_list += '-'\n",
        "    #         i += 1\n",
        "    #     env_list += '\\n'\n",
        "    # env_list = env_list[:-2]\n",
        "    # env_list += 'T\\n'\n",
        "    \n",
        "    if S == 'terminal': \n",
        "        interaction = 'Episode %s: total_steps = %s' % (episode+1, step_counter) #回應\n",
        "        clear_output(wait=True)\n",
        "        # print('{}'.format(interaction), end='') \n",
        "        time.sleep(1)                             \n",
        "        # print('\\r                                ', end='') #清空\n",
        "    else:\n",
        "        interaction = ''.join(env_list) \n",
        "        clear_output(wait=True)\n",
        "        print(f'Episode {episode}: current_step = {step_counter}')\n",
        "        # print('{}'.format(interaction), end='')\n",
        "        time.sleep(FRESH_TIME)"
      ],
      "execution_count": 0,
      "outputs": []
    },
    {
      "cell_type": "code",
      "metadata": {
        "id": "U8Z0Ghb6GHj5",
        "colab_type": "code",
        "colab": {
          "base_uri": "https://localhost:8080/",
          "height": 67
        },
        "outputId": "20b49292-dc71-420e-9342-e45a7c4a661f"
      },
      "source": [
        "update_env(S=5, episode=1, step_counter=1)"
      ],
      "execution_count": 107,
      "outputs": [
        {
          "output_type": "stream",
          "text": [
            "\r---\n",
            "--o\n",
            "--T"
          ],
          "name": "stdout"
        }
      ]
    },
    {
      "cell_type": "markdown",
      "metadata": {
        "id": "IrifWbxeNp-Y",
        "colab_type": "text"
      },
      "source": [
        "### 建立reinforcement learning"
      ]
    },
    {
      "cell_type": "code",
      "metadata": {
        "id": "7Qpq4a0bNtVL",
        "colab_type": "code",
        "colab": {}
      },
      "source": [
        "def rl():\n",
        "    q_table = build_q_table(N_STATES, ACTIONS) #建立 Q table\n",
        "    for episode in range(MAX_EPISODES): #從第一個回合玩到最後一個回合\n",
        "        step_counter = 0\n",
        "        S = 0 #初始情況，探索者放到左邊\n",
        "        is_terminated = False \n",
        "        update_env(S, episode, step_counter) #更新環境\n",
        "        while not is_terminated: #回合沒有結束\n",
        "\n",
        "            A = choose_action(S, q_table) \n",
        "            S_, R = get_env_feedback(S, A)  \n",
        "            q_predict = q_table.loc[S, A] #估計值 Single label for row and column > loc[index, col]\n",
        "            if S_ != 'terminal': #回合還沒結束\n",
        "                q_target = R + GAMMA * q_table.iloc[S_, :].max()   #真實值 \n",
        "            else:\n",
        "                q_target = R    \n",
        "                is_terminated = True    # 結束這一回合\n",
        "                \n",
        "            q_table.loc[S, A] += ALPHA * (q_target - q_predict)  # update\n",
        "            S = S_  # move to next state\n",
        "\n",
        "            update_env(S, episode, step_counter+1)\n",
        "            step_counter += 1\n",
        "    return q_table, step_counter"
      ],
      "execution_count": 0,
      "outputs": []
    },
    {
      "cell_type": "markdown",
      "metadata": {
        "id": "4G9H_LlYNsid",
        "colab_type": "text"
      },
      "source": [
        "### Execute Program"
      ]
    },
    {
      "cell_type": "code",
      "metadata": {
        "id": "nRzSSy6YNxMP",
        "colab_type": "code",
        "outputId": "1c917cfe-e171-4e7f-dff4-d87d8d62043a",
        "colab": {
          "base_uri": "https://localhost:8080/",
          "height": 33
        }
      },
      "source": [
        "if __name__ == \"__main__\":\n",
        "    q_table, step = rl()\n",
        "    # clear_output(wait=True)\n",
        "    print()\n",
        "    print('steps:', step)\n",
        "    print('\\nQ-table:\\n')\n",
        "    print(q_table)"
      ],
      "execution_count": 0,
      "outputs": [
        {
          "output_type": "stream",
          "text": [
            "Episode 0: current_step = 1773\n"
          ],
          "name": "stdout"
        }
      ]
    }
  ]
}